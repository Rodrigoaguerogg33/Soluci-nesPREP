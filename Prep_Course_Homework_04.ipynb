{
 "cells": [
  {
   "attachments": {},
   "cell_type": "markdown",
   "metadata": {},
   "source": [
    "## Flujos de Control"
   ]
  },
  {
   "attachments": {},
   "cell_type": "markdown",
   "metadata": {},
   "source": [
    "1) Crear una variable que contenga un elemento del conjunto de números enteros y luego imprimir por pantalla si es mayor o menor a cero"
   ]
  },
  {
   "cell_type": "code",
   "execution_count": 5,
   "metadata": {},
   "outputs": [
    {
     "name": "stdout",
     "output_type": "stream",
     "text": [
      "La variable es mayor o igual a 0\n"
     ]
    }
   ],
   "source": [
    "a = 1\n",
    "if a >= 0:\n",
    "    print(\"La variable es mayor o igual a 0\")"
   ]
  },
  {
   "attachments": {},
   "cell_type": "markdown",
   "metadata": {},
   "source": [
    "2) Crear dos variables y un condicional que informe si son del mismo tipo de dato"
   ]
  },
  {
   "cell_type": "code",
   "execution_count": 17,
   "metadata": {},
   "outputs": [
    {
     "name": "stdout",
     "output_type": "stream",
     "text": [
      "Las variables son de tipos de datos distintos\n"
     ]
    }
   ],
   "source": [
    "a = 'gg'\n",
    "b = 5\n",
    "if (type(a) == type(b)):\n",
    "    print('Las variables son del mismo tipo')\n",
    "else:\n",
    "    print('Las variables son de tipos de datos distintos')"
   ]
  },
  {
   "attachments": {},
   "cell_type": "markdown",
   "metadata": {},
   "source": [
    "3) Para los valores enteros del 1 al 20, imprimir por pantalla si es par o impar"
   ]
  },
  {
   "cell_type": "code",
   "execution_count": 19,
   "metadata": {},
   "outputs": [
    {
     "name": "stdout",
     "output_type": "stream",
     "text": [
      "El número  1  es impar\n",
      "El número  2  es par\n",
      "El número  3  es impar\n",
      "El número  4  es par\n",
      "El número  5  es impar\n",
      "El número  6  es par\n",
      "El número  7  es impar\n",
      "El número  8  es par\n",
      "El número  9  es impar\n",
      "El número  10  es par\n",
      "El número  11  es impar\n",
      "El número  12  es par\n",
      "El número  13  es impar\n",
      "El número  14  es par\n",
      "El número  15  es impar\n",
      "El número  16  es par\n",
      "El número  17  es impar\n",
      "El número  18  es par\n",
      "El número  19  es impar\n",
      "El número  20  es par\n"
     ]
    }
   ],
   "source": [
    "for i in range(1, 21):\n",
    "    if i % 2 == 0:\n",
    "        print('El número ', str(i), ' es par')\n",
    "    else:\n",
    "        print('El número ', str(i), ' es impar')"
   ]
  },
  {
   "attachments": {},
   "cell_type": "markdown",
   "metadata": {},
   "source": [
    "4) En un ciclo for mostrar para los valores entre 0 y 5 el resultado de elevarlo a la potencia igual a 3"
   ]
  },
  {
   "cell_type": "code",
   "execution_count": 22,
   "metadata": {},
   "outputs": [
    {
     "name": "stdout",
     "output_type": "stream",
     "text": [
      "Valor: 0  Elevado a la tercera potencia: 0\n",
      "Valor: 1  Elevado a la tercera potencia: 1\n",
      "Valor: 2  Elevado a la tercera potencia: 8\n",
      "Valor: 3  Elevado a la tercera potencia: 27\n",
      "Valor: 4  Elevado a la tercera potencia: 64\n",
      "Valor: 5  Elevado a la tercera potencia: 125\n"
     ]
    }
   ],
   "source": [
    "for i in range(0, 6):\n",
    "    print('Valor:', str(i), ' Elevado a la tercera potencia:', str(i**3))"
   ]
  },
  {
   "attachments": {},
   "cell_type": "markdown",
   "metadata": {},
   "source": [
    "5) Crear una variable que contenga un número entero y realizar un ciclo for la misma cantidad de ciclos"
   ]
  },
  {
   "cell_type": "code",
   "execution_count": 25,
   "metadata": {},
   "outputs": [
    {
     "name": "stdout",
     "output_type": "stream",
     "text": [
      "recoriendo el for en la posición: 0\n",
      "recoriendo el for en la posición: 1\n",
      "recoriendo el for en la posición: 2\n",
      "recoriendo el for en la posición: 3\n",
      "recoriendo el for en la posición: 4\n"
     ]
    }
   ],
   "source": [
    "a = 5\n",
    "for i in range(a):\n",
    "    print('recoriendo el for en la posición:', str(i))"
   ]
  },
  {
   "attachments": {},
   "cell_type": "markdown",
   "metadata": {},
   "source": [
    "6) Utilizar un ciclo while para realizar el factorial de un número guardado en una variable, sólo si la variable contiene un número entero mayor a 0"
   ]
  },
  {
   "cell_type": "code",
   "execution_count": 26,
   "metadata": {},
   "outputs": [
    {
     "name": "stdout",
     "output_type": "stream",
     "text": [
      "El factorial es 120\n"
     ]
    }
   ],
   "source": [
    "n = 5\n",
    "if (type(n) == int):\n",
    "    if (n > 0):\n",
    "        factorial = n\n",
    "        while (n > 2):\n",
    "            n = n - 1\n",
    "            factorial = factorial * n\n",
    "        print('El factorial es', factorial)\n",
    "    else:\n",
    "        print('La variable no es mayor a cero')\n",
    "else:\n",
    "    print('La variable no es un entero')"
   ]
  },
  {
   "attachments": {},
   "cell_type": "markdown",
   "metadata": {},
   "source": [
    "7) Crear un ciclo for dentro de un ciclo while"
   ]
  },
  {
   "cell_type": "code",
   "execution_count": 34,
   "metadata": {},
   "outputs": [
    {
     "name": "stdout",
     "output_type": "stream",
     "text": [
      "dentro del while1\n",
      "Ciclo for nro 1\n",
      "dentro del while2\n",
      "Ciclo for nro 1\n",
      "Ciclo for nro 2\n",
      "dentro del while3\n",
      "Ciclo for nro 1\n",
      "Ciclo for nro 2\n",
      "Ciclo for nro 3\n",
      "dentro del while4\n",
      "Ciclo for nro 1\n",
      "Ciclo for nro 2\n",
      "Ciclo for nro 3\n",
      "Ciclo for nro 4\n"
     ]
    }
   ],
   "source": [
    "n = 1\n",
    "while n < 5:\n",
    "    print('dentro del while' + str(n))  #Ciclo while\n",
    "    for i in range(1, n+1):\n",
    "        print('Ciclo for nro ' + str(i))  #Ciclo for\n",
    "    n += 1 #Hacemos que avance el vector de 1 en 1"
   ]
  },
  {
   "attachments": {},
   "cell_type": "markdown",
   "metadata": {},
   "source": [
    "8) Crear un ciclo while dentro de un ciclo for"
   ]
  },
  {
   "cell_type": "code",
   "execution_count": 44,
   "metadata": {},
   "outputs": [],
   "source": [
    "n = 5\n",
    "for i in range(1, n):\n",
    "    \n",
    "    while(n < 5):\n",
    "        n -= 1\n",
    "        print('Ciclo while nro ' + str(n))\n",
    "        print('Ciclo for nro ' + str(i))"
   ]
  },
  {
   "attachments": {},
   "cell_type": "markdown",
   "metadata": {},
   "source": [
    "9) Imprimir los números primos existentes entre 0 y 30"
   ]
  },
  {
   "cell_type": "code",
   "execution_count": 45,
   "metadata": {},
   "outputs": [
    {
     "name": "stdout",
     "output_type": "stream",
     "text": [
      "0\n",
      "1\n",
      "2\n",
      "3\n",
      "5\n",
      "7\n",
      "11\n",
      "13\n",
      "17\n",
      "19\n",
      "23\n",
      "29\n"
     ]
    }
   ],
   "source": [
    "Final=30\n",
    "n = 0\n",
    "nprimo = True\n",
    "while (n < Final):\n",
    "    for div in range(2, n):\n",
    "        if (n % div == 0):\n",
    "            nprimo = False\n",
    "    if (nprimo):\n",
    "        print(n)\n",
    "    else:\n",
    "        nprimo = True\n",
    "    n += 1"
   ]
  },
  {
   "attachments": {},
   "cell_type": "markdown",
   "metadata": {},
   "source": [
    "10) ¿Se puede mejorar el proceso del punto 9? Utilizar las sentencias break y/ó continue para tal fin"
   ]
  },
  {
   "cell_type": "code",
   "execution_count": 49,
   "metadata": {},
   "outputs": [
    {
     "name": "stdout",
     "output_type": "stream",
     "text": [
      "0\n",
      "1\n",
      "2\n",
      "3\n",
      "5\n",
      "7\n",
      "11\n",
      "13\n",
      "17\n",
      "19\n",
      "23\n",
      "29\n"
     ]
    }
   ],
   "source": [
    "toperango =30\n",
    "n = 0\n",
    "primo = True\n",
    "while (n < toperango):\n",
    "    for div in range(2, n):\n",
    "        if (n % div == 0):\n",
    "            primo = False\n",
    "            break\n",
    "    if (primo):\n",
    "        print(n)\n",
    "    else:\n",
    "        primo = True\n",
    "    n += 1"
   ]
  },
  {
   "attachments": {},
   "cell_type": "markdown",
   "metadata": {},
   "source": [
    "11) En los puntos 9 y 10, se diseño un código que encuentra números primos y además se lo optimizó. ¿Es posible saber en qué medida se optimizó?"
   ]
  },
  {
   "cell_type": "code",
   "execution_count": 51,
   "metadata": {},
   "outputs": [
    {
     "name": "stdout",
     "output_type": "stream",
     "text": [
      "0\n",
      "1\n",
      "2\n",
      "3\n",
      "5\n",
      "7\n",
      "11\n",
      "13\n",
      "17\n",
      "19\n",
      "23\n",
      "29\n",
      "Cantidad de ciclos: 378\n"
     ]
    }
   ],
   "source": [
    "tope = 30\n",
    "ciclos_sin_break = 0\n",
    "n = 0\n",
    "primo = True\n",
    "while (n < tope):\n",
    "    for div in range(2, n):\n",
    "        ciclos_sin_break += 1\n",
    "        if (n % div == 0):\n",
    "            primo = False\n",
    "    if (primo):\n",
    "        print(n)\n",
    "    else:\n",
    "        primo = True\n",
    "    n += 1\n",
    "print('Cantidad de ciclos: ' + str(ciclos_sin_break))\n",
    "\n",
    "\n",
    "\n"
   ]
  },
  {
   "cell_type": "code",
   "execution_count": 52,
   "metadata": {},
   "outputs": [
    {
     "name": "stdout",
     "output_type": "stream",
     "text": [
      "0\n",
      "1\n",
      "2\n",
      "3\n",
      "5\n",
      "7\n",
      "11\n",
      "13\n",
      "17\n",
      "19\n",
      "23\n",
      "29\n",
      "Cantidad de ciclos: 134\n",
      "Se optimizó a un 0.3544973544973545% de ciclos aplicando break\n"
     ]
    }
   ],
   "source": [
    "tope = 30 \n",
    "ciclos_con_break = 0\n",
    "n = 0\n",
    "primo = True\n",
    "while (n < tope):\n",
    "    for div in range(2, n):\n",
    "        ciclos_con_break += 1\n",
    "        if (n % div == 0):\n",
    "            primo = False\n",
    "            break\n",
    "    if (primo):\n",
    "        print(n)\n",
    "    else:\n",
    "        primo = True\n",
    "    n += 1\n",
    "print('Cantidad de ciclos: ' + str(ciclos_con_break))\n",
    "print('Se optimizó a un ' + str(ciclos_con_break/ciclos_sin_break) + '% de ciclos aplicando break')"
   ]
  },
  {
   "attachments": {},
   "cell_type": "markdown",
   "metadata": {},
   "source": [
    "12) Aplicando continue, armar un ciclo while que solo imprima los valores divisibles por 12, dentro del rango de números de 100 a 300"
   ]
  },
  {
   "cell_type": "code",
   "execution_count": 68,
   "metadata": {},
   "outputs": [
    {
     "name": "stdout",
     "output_type": "stream",
     "text": [
      "Este valor es divisible en 12: 108\n",
      "Este valor es divisible en 12: 120\n",
      "Este valor es divisible en 12: 132\n",
      "Este valor es divisible en 12: 144\n",
      "Este valor es divisible en 12: 156\n",
      "Este valor es divisible en 12: 168\n",
      "Este valor es divisible en 12: 180\n",
      "Este valor es divisible en 12: 192\n",
      "Este valor es divisible en 12: 204\n",
      "Este valor es divisible en 12: 216\n",
      "Este valor es divisible en 12: 228\n",
      "Este valor es divisible en 12: 240\n",
      "Este valor es divisible en 12: 252\n",
      "Este valor es divisible en 12: 264\n",
      "Este valor es divisible en 12: 276\n",
      "Este valor es divisible en 12: 288\n",
      "Este valor es divisible en 12: 300\n"
     ]
    }
   ],
   "source": [
    "n = 99\n",
    "while (n <= 300):\n",
    "    n += 1\n",
    "    if (n % 12 != 0):\n",
    "        continue\n",
    "    print('Este valor es divisible en 12:', str(n))\n",
    "    \n"
   ]
  },
  {
   "attachments": {},
   "cell_type": "markdown",
   "metadata": {},
   "source": [
    "13) Utilizar la función **input()** que permite hacer ingresos por teclado, para encontrar números primos y dar la opción al usario de buscar el siguiente"
   ]
  },
  {
   "cell_type": "code",
   "execution_count": 76,
   "metadata": {},
   "outputs": [
    {
     "name": "stdout",
     "output_type": "stream",
     "text": [
      "1\n",
      "¿Desea encontrar el siguiente número primo? oprima el numero 1, de lo contrarió apriete cualquier otro\n",
      "2\n",
      "¿Desea encontrar el siguiente número primo? oprima el numero 1, de lo contrarió apriete cualquier otro\n",
      "3\n",
      "¿Desea encontrar el siguiente número primo? oprima el numero 1, de lo contrarió apriete cualquier otro\n",
      "5\n",
      "¿Desea encontrar el siguiente número primo? oprima el numero 1, de lo contrarió apriete cualquier otro\n",
      "7\n",
      "¿Desea encontrar el siguiente número primo? oprima el numero 1, de lo contrarió apriete cualquier otro\n",
      "Colocó algo que no es el numero 1 y se finalizó el proceso\n"
     ]
    }
   ],
   "source": [
    "n = 1\n",
    "sigue = 1\n",
    "primo = True\n",
    "while (sigue == 1):\n",
    "    for div in range(2, n):\n",
    "        if (n % div == 0):\n",
    "            primo = False\n",
    "            break\n",
    "    if (primo):\n",
    "        print(n)\n",
    "        print('¿Desea encontrar el siguiente número primo? oprima el numero 1, de lo contrarió apriete cualquier otro')\n",
    "        if (input() != '1'):\n",
    "            print('Colocó algo que no es el numero 1 y se finalizó el proceso')\n",
    "            break\n",
    "    else:\n",
    "        primo = True\n",
    "    n += 1"
   ]
  },
  {
   "attachments": {},
   "cell_type": "markdown",
   "metadata": {},
   "source": [
    "14) Crear un ciclo while que encuentre dentro del rango de 100 a 300 el primer número divisible por 3 y además múltiplo de 6"
   ]
  },
  {
   "cell_type": "code",
   "execution_count": 78,
   "metadata": {},
   "outputs": [
    {
     "name": "stdout",
     "output_type": "stream",
     "text": [
      "El primer numero encontrado es: 102\n"
     ]
    }
   ],
   "source": [
    "n = 100\n",
    "while(n<=300):\n",
    "    if (n % 6 == 0):\n",
    "        print('El primer numero encontrado es:', str(n))\n",
    "        break\n",
    "    n += 1"
   ]
  }
 ],
 "metadata": {
  "interpreter": {
   "hash": "c85384e4cb51c8b72350f3a8712cc8351fdc3955e32a27f9b60c6242ab125f01"
  },
  "kernelspec": {
   "display_name": "Python 3 (ipykernel)",
   "language": "python",
   "name": "python3"
  },
  "language_info": {
   "codemirror_mode": {
    "name": "ipython",
    "version": 3
   },
   "file_extension": ".py",
   "mimetype": "text/x-python",
   "name": "python",
   "nbconvert_exporter": "python",
   "pygments_lexer": "ipython3",
   "version": "3.10.6"
  }
 },
 "nbformat": 4,
 "nbformat_minor": 4
}
